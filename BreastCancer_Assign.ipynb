{
  "nbformat": 4,
  "nbformat_minor": 0,
  "metadata": {
    "colab": {
      "provenance": []
    },
    "kernelspec": {
      "name": "python3",
      "display_name": "Python 3"
    },
    "language_info": {
      "name": "python"
    }
  },
  "cells": [
    {
      "cell_type": "markdown",
      "source": [
        "# The Breast Cancer Wisconsin (Diagnostic) dataset\n"
      ],
      "metadata": {
        "id": "r7UfMi6_U2Su"
      }
    },
    {
      "cell_type": "code",
      "source": [
        "#The dataset contains various attributes computed from digitized images of\n",
        "#breast mass. Here are the attributes included in the dataset:\n",
        "\n",
        "#mean_radius: Mean of distances from the center to points on the perimeter.\n",
        "#mean_texture: Standard deviation of gray-scale values.\n",
        "#mean_perimeter: Mean size of the core tumor.\n",
        "#mean_area: Mean area of the core tumor.\n",
        "#mean_smoothness: Mean of local variation in radius lengths.\n",
        "#mean_compactness: Mean of perimeter^2 / area - 1.0.\n",
        "#mean_concavity: Mean severity of concave portions of the contour.\n",
        "#mean_concave_points: Mean number of concave portions of the contour.\n",
        "#mean_symmetry: Mean symmetry of the tumor.\n",
        "#mean_fractal_dimension: Mean \"coastline approximation\" - 1.\n",
        "#se_radius: Standard error of distances from the center to points on the perimeter.\n",
        "#se_texture: Standard error of gray-scale values.\n",
        "#se_perimeter: Standard error of the tumor size.\n",
        "#se_area: Standard error of the tumor area.\n",
        "#se_smoothness: Standard error of local variation in radius lengths.\n",
        "#se_compactness: Standard error of perimeter^2 / area - 1.0.\n",
        "#se_concavity: Standard error of severity of concave portions of the contour.\n",
        "#se_concave_points: Standard error for number of concave portions of the contour.\n",
        "#se_symmetry: Standard error of tumor symmetry.\n",
        "#se_fractal_dimension: Standard error for \"coastline approximation\" - 1.\n",
        "#worst_radius: Worst or largest mean value for distances from the center to points on the perimeter.\n",
        "#worst_texture: Worst or largest mean value for gray-scale values.\n",
        "#worst_perimeter: Worst or largest mean value for tumor size.\n",
        "#worst_area: Worst or largest mean value for tumor area.\n",
        "#worst_smoothness: Worst or largest mean value for local variation in radius lengths.\n",
        "#worst_compactness: Worst or largest mean value for perimeter^2 / area - 1.0.\n",
        "#worst_concavity: Worst or largest mean value for severity of concave portions of the contour.\n",
        "#worst_concave_points: Worst or largest mean value for number of concave portions of the contour.\n",
        "#worst_symmetry: Worst or largest mean value for tumor symmetry.\n",
        "#worst_fractal_dimension: Worst or largest mean value for \"coastline approximation\" - 1.\n",
        "\n",
        "#These attributes are used to predict whether a breast tumor is malignant (1) or benign (0)."
      ],
      "metadata": {
        "id": "UJ3bDXPv2IwW"
      },
      "execution_count": null,
      "outputs": []
    },
    {
      "cell_type": "code",
      "source": [
        "# Install required packages\n",
        "#!pip install scikit-learn pandas numpy matplotlib\n",
        "\n",
        "# Import necessary libraries\n",
        "import pandas as pd\n",
        "import numpy as np\n",
        "import matplotlib.pyplot as plt\n",
        "from sklearn.model_selection import train_test_split\n",
        "from sklearn.preprocessing import StandardScaler\n",
        "from sklearn.linear_model import LogisticRegression\n",
        "from sklearn.neighbors import KNeighborsClassifier\n",
        "from sklearn.neural_network import MLPClassifier\n",
        "from sklearn.tree import DecisionTreeClassifier\n",
        "from sklearn.metrics import accuracy_score, confusion_matrix, classification_report\n",
        "\n",
        "# Load the dataset\n",
        "from sklearn.datasets import load_breast_cancer\n",
        "data = load_breast_cancer()"
      ],
      "metadata": {
        "id": "Lb6PZNGzIi1F"
      },
      "execution_count": null,
      "outputs": []
    },
    {
      "cell_type": "code",
      "source": [
        "# Data preprocessing\n",
        "X = data.data  # Features\n",
        "y = data.target  # Target variable\n",
        "\n",
        "# Split the data into training and testing sets\n",
        "X_train, X_test, y_train, y_test = train_test_split(X, y, test_size=0.2, random_state=42)\n",
        "\n",
        "# Feature scaling\n",
        "scaler = StandardScaler()\n",
        "X_train_scaled = scaler.fit_transform(X_train)\n",
        "X_test_scaled = scaler.transform(X_test)\n"
      ],
      "metadata": {
        "id": "FxDNDJzqPvfB"
      },
      "execution_count": null,
      "outputs": []
    },
    {
      "cell_type": "code",
      "source": [
        "y.shape"
      ],
      "metadata": {
        "id": "MKeotQM-UO0o",
        "colab": {
          "base_uri": "https://localhost:8080/"
        },
        "outputId": "640945e2-df5f-45c3-a255-89ce645a9209"
      },
      "execution_count": null,
      "outputs": [
        {
          "output_type": "execute_result",
          "data": {
            "text/plain": [
              "(569,)"
            ]
          },
          "metadata": {},
          "execution_count": 4
        }
      ]
    },
    {
      "cell_type": "code",
      "source": [
        "# Train and apply the Linear Regression model\n",
        "linreg_model = LogisticRegression()\n",
        "linreg_model.fit(X_train_scaled, y_train)\n",
        "y_pred = linreg_model.predict(X_test_scaled)"
      ],
      "metadata": {
        "id": "B-TPqyHFP9XU"
      },
      "execution_count": null,
      "outputs": []
    },
    {
      "cell_type": "code",
      "source": [
        "# Evaluate the Linear Regression model\n",
        "accuracy_linreg = accuracy_score(y_test, y_pred)\n",
        "confusion_mat_linreg = confusion_matrix(y_test, y_pred)\n",
        "classification_rep_linreg = classification_report(y_test, y_pred)\n",
        "\n",
        "# Print the results\n",
        "print(\"Linear Regression Accuracy:\", accuracy_linreg)\n",
        "print(\"Linear Regression Confusion Matrix:\\n\", confusion_mat_linreg)\n",
        "print(\"Linear Regression Classification Report:\\n\", classification_rep_linreg)\n",
        "\n",
        "# Plot the confusion matrix\n",
        "plt.imshow(confusion_mat_linreg, cmap='Blues')\n",
        "plt.title('Linear Regression Confusion Matrix')\n",
        "plt.colorbar()\n",
        "plt.xticks(np.arange(len(data.target_names)), data.target_names)\n",
        "plt.yticks(np.arange(len(data.target_names)), data.target_names)\n",
        "plt.xlabel('Predicted')\n",
        "plt.ylabel('True')\n",
        "plt.show()\n"
      ],
      "metadata": {
        "id": "0MiljvwHQlkU",
        "colab": {
          "base_uri": "https://localhost:8080/",
          "height": 715
        },
        "outputId": "9a68b407-b272-435d-9702-3f6fe9753733"
      },
      "execution_count": null,
      "outputs": [
        {
          "output_type": "stream",
          "name": "stdout",
          "text": [
            "Linear Regression Accuracy: 0.9736842105263158\n",
            "Linear Regression Confusion Matrix:\n",
            " [[41  2]\n",
            " [ 1 70]]\n",
            "Linear Regression Classification Report:\n",
            "               precision    recall  f1-score   support\n",
            "\n",
            "           0       0.98      0.95      0.96        43\n",
            "           1       0.97      0.99      0.98        71\n",
            "\n",
            "    accuracy                           0.97       114\n",
            "   macro avg       0.97      0.97      0.97       114\n",
            "weighted avg       0.97      0.97      0.97       114\n",
            "\n"
          ]
        },
        {
          "output_type": "display_data",
          "data": {
            "text/plain": [
              "<Figure size 640x480 with 2 Axes>"
            ],
            "image/png": "[encoded data removed]"
          },
          "metadata": {}
        }
      ]
    },
    {
      "cell_type": "code",
      "source": [
        "# Train and apply the kNN model\n",
        "knn_model = KNeighborsClassifier()\n",
        "knn_model.fit(X_train_scaled, y_train)\n",
        "y_pred = knn_model.predict(X_test_scaled)"
      ],
      "metadata": {
        "id": "U8Q_gdVOQwob"
      },
      "execution_count": null,
      "outputs": []
    },
    {
      "cell_type": "code",
      "source": [
        "# compute the accuracy of the kNN model and assign it to variable accuracy_knn\n",
        "accuracy_knn = accuracy_score(y_test, y_pred)\n",
        "print(accuracy_knn)"
      ],
      "metadata": {
        "id": "AjFS4p5NRG_g",
        "colab": {
          "base_uri": "https://localhost:8080/"
        },
        "outputId": "1f9b35f9-3db9-43bd-a903-f7dcf0f77988"
      },
      "execution_count": null,
      "outputs": [
        {
          "output_type": "stream",
          "name": "stdout",
          "text": [
            "0.9473684210526315\n"
          ]
        }
      ]
    },
    {
      "cell_type": "code",
      "source": [
        "# Train and apply the Neural Network model\n",
        "nn_model = MLPClassifier()\n",
        "nn_model.fit(X_train_scaled, y_train)\n",
        "y_pred = nn_model.predict(X_test_scaled)"
      ],
      "metadata": {
        "id": "tNkCwvbaRHa3",
        "colab": {
          "base_uri": "https://localhost:8080/"
        },
        "outputId": "0babbd1b-d1ed-4b02-93b3-66891417b763"
      },
      "execution_count": null,
      "outputs": [
        {
          "output_type": "stream",
          "name": "stderr",
          "text": [
            "/usr/local/lib/python3.10/dist-packages/sklearn/neural_network/_multilayer_perceptron.py:686: ConvergenceWarning: Stochastic Optimizer: Maximum iterations (200) reached and the optimization hasn't converged yet.\n",
            "  warnings.warn(\n"
          ]
        }
      ]
    },
    {
      "cell_type": "code",
      "source": [
        "# compute the accuracy of the Neural Network model and assign it to variable accuracy_nn\n",
        "accuracy_nn = accuracy_score(y_test, y_pred)\n",
        "print(accuracy_nn)"
      ],
      "metadata": {
        "id": "qaqJ31wdRmsX",
        "colab": {
          "base_uri": "https://localhost:8080/"
        },
        "outputId": "57814096-9fe6-4ad0-ac00-af82c9c3b45c"
      },
      "execution_count": null,
      "outputs": [
        {
          "output_type": "stream",
          "name": "stdout",
          "text": [
            "0.9736842105263158\n"
          ]
        }
      ]
    },
    {
      "cell_type": "code",
      "source": [
        "# Train and apply the Decision Tree model\n",
        "dt_model = DecisionTreeClassifier()\n",
        "dt_model.fit(X_train_scaled, y_train)\n",
        "y_pred = dt_model.predict(X_test_scaled)"
      ],
      "metadata": {
        "id": "1f6KEkB7Rodl"
      },
      "execution_count": null,
      "outputs": []
    },
    {
      "cell_type": "code",
      "source": [
        "# compute the accuracy of the Decision Tree model and assign it to variable accuracy_dt\n",
        "accuracy_dt = accuracy_score(y_test, y_pred)\n",
        "print(accuracy_dt)"
      ],
      "metadata": {
        "id": "g4NBKmE6R-WH",
        "colab": {
          "base_uri": "https://localhost:8080/"
        },
        "outputId": "d873a280-7011-48e7-9b9c-54910af7ae20"
      },
      "execution_count": null,
      "outputs": [
        {
          "output_type": "stream",
          "name": "stdout",
          "text": [
            "0.9385964912280702\n"
          ]
        }
      ]
    },
    {
      "cell_type": "code",
      "source": [
        "# Create a bar plot to compare the accuracies\n",
        "models = ['Linear Regression', 'kNN', 'Neural Network', 'Decision Tree']\n",
        "accuracies = [accuracy_linreg, accuracy_knn, accuracy_nn, accuracy_dt]\n",
        "\n",
        "plt.bar(models, accuracies)\n",
        "plt.xlabel('Models')\n",
        "plt.ylabel('Accuracy')\n",
        "plt.title('Accuracy Comparison of Classification Models')\n",
        "plt.ylim(0.9, 1.0)\n",
        "plt.show()"
      ],
      "metadata": {
        "id": "LegTcD2cR-pU",
        "colab": {
          "base_uri": "https://localhost:8080/",
          "height": 472
        },
        "outputId": "dc8be990-6ea1-45c2-f13a-bc3f87ef35a6"
      },
      "execution_count": null,
      "outputs": [
        {
          "output_type": "display_data",
          "data": {
            "text/plain": [
              "<Figure size 640x480 with 1 Axes>"
            ],
            "image/png": "[encoded data removed]"
          },
          "metadata": {}
        }
      ]
    }
  ]
}