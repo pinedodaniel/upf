{
  "nbformat": 4,
  "nbformat_minor": 0,
  "metadata": {
    "colab": {
      "provenance": []
    },
    "kernelspec": {
      "name": "python3",
      "display_name": "Python 3"
    }
  },
  "cells": [
    {
      "cell_type": "markdown",
      "metadata": {
        "id": "4nUo2_R0Nd5p"
      },
      "source": [
        "# Bienvenidos a Inteligencia Artificial y sus aplicaciones\n",
        "\n",
        "### Introducción a Python\n",
        "\n",
        "*   print command\n",
        "*   Comments\n",
        "*   Variables\n",
        "*   Operadores aritméticos\n",
        "*   input command\n",
        "\n",
        "\n"
      ]
    },
    {
      "cell_type": "markdown",
      "metadata": {
        "id": "C4Vw5H7fo93n"
      },
      "source": [
        "### Codigo de ejemplo:"
      ]
    },
    {
      "cell_type": "code",
      "metadata": {
        "id": "wANh6DpDNZ-y"
      },
      "source": [
        "# Esta linea es un comentario\n",
        "print('Hola como estas?')"
      ],
      "execution_count": null,
      "outputs": []
    },
    {
      "cell_type": "code",
      "source": [
        "print(5)"
      ],
      "metadata": {
        "id": "HQE-B-hmreB-"
      },
      "execution_count": null,
      "outputs": []
    },
    {
      "cell_type": "code",
      "metadata": {
        "id": "l6QwV4gLeyBp"
      },
      "source": [
        "x = 4\n",
        "print(x)"
      ],
      "execution_count": null,
      "outputs": []
    },
    {
      "cell_type": "code",
      "source": [
        "print(\"Hola!\", end = ' ')\n",
        "print(\"Soy yo!\")"
      ],
      "metadata": {
        "id": "U583v-L18UCS"
      },
      "execution_count": null,
      "outputs": []
    },
    {
      "cell_type": "code",
      "metadata": {
        "id": "d9Go-SNSf0sP"
      },
      "source": [
        "mensaje = 'Hola :)'\n",
        "print(mensaje)"
      ],
      "execution_count": null,
      "outputs": []
    },
    {
      "cell_type": "code",
      "metadata": {
        "id": "1449cezDe_9H"
      },
      "source": [
        "num1 = 4\n",
        "num2 = 10\n",
        "resultado = num1 * num2\n",
        "print(resultado)"
      ],
      "execution_count": null,
      "outputs": []
    },
    {
      "cell_type": "code",
      "metadata": {
        "id": "ENoIWwSxfTun"
      },
      "source": [
        "nombre = input('Escribe su nombre: ')\n",
        "print(nombre)"
      ],
      "execution_count": null,
      "outputs": []
    },
    {
      "cell_type": "code",
      "metadata": {
        "id": "zXsRt4ZwlmhI"
      },
      "source": [
        "print('Hola', 'como estas?')"
      ],
      "execution_count": null,
      "outputs": []
    },
    {
      "cell_type": "code",
      "metadata": {
        "id": "EOuiH8nKh5Hq"
      },
      "source": [
        "edad = int(input('Escribe su edad: '))\n",
        "print(edad)"
      ],
      "execution_count": null,
      "outputs": []
    },
    {
      "cell_type": "markdown",
      "metadata": {
        "id": "ukNm_R9apPig"
      },
      "source": [
        "### Challenges"
      ]
    },
    {
      "cell_type": "markdown",
      "metadata": {
        "id": "FxGep5HziQyX"
      },
      "source": [
        "*Challenge 1:* Pregunta al usuario su nombre e imprime en pantalla el mensaje: **Hola [nombre del usuario]**"
      ]
    },
    {
      "cell_type": "code",
      "metadata": {
        "id": "ASht9g_RiHWu"
      },
      "source": [],
      "execution_count": null,
      "outputs": []
    },
    {
      "cell_type": "markdown",
      "metadata": {
        "id": "Oj4DpTQiisxl"
      },
      "source": [
        "*Challenge 2:* Pídele al usuario que escriba 2 números, súmalos e imprime la respuesta de esta manera: **El total es [respuesta]**"
      ]
    },
    {
      "cell_type": "code",
      "metadata": {
        "id": "rxRDCLUWlSgt"
      },
      "source": [],
      "execution_count": null,
      "outputs": []
    },
    {
      "cell_type": "markdown",
      "metadata": {
        "id": "ifcBIhcyl48L"
      },
      "source": [
        "*Challenge 3:* Pregunta el precio total de la cuenta del restaurante y el número de personas. Divide el precio entre el numero de personas e imprime en pantalla cuanto tiene que pagar cada uno."
      ]
    },
    {
      "cell_type": "code",
      "metadata": {
        "id": "kstXu8fMChBb"
      },
      "source": [],
      "execution_count": null,
      "outputs": []
    },
    {
      "cell_type": "markdown",
      "metadata": {
        "id": "9yfoqnR_IcYq"
      },
      "source": [
        "*Challenge 4.* Escribe un programa que pregunte un número de días y luego te diga (imprima en pantalla) el numero de horas, de minutos y de segundos que equivalen al número de dias."
      ]
    },
    {
      "cell_type": "code",
      "metadata": {
        "id": "hW7oO5MtJCEq"
      },
      "source": [],
      "execution_count": null,
      "outputs": []
    }
  ]
}