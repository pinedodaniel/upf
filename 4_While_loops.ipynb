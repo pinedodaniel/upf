{
  "nbformat": 4,
  "nbformat_minor": 0,
  "metadata": {
    "colab": {
      "provenance": []
    },
    "kernelspec": {
      "name": "python3",
      "display_name": "Python 3"
    }
  },
  "cells": [
    {
      "cell_type": "markdown",
      "metadata": {
        "id": "Uw60bFLuhjkv"
      },
      "source": [
        "# Inteligencia Artificial y sus aplicaciones\n",
        "### While Loop\n",
        "\n",
        "*   while statement"
      ]
    },
    {
      "cell_type": "markdown",
      "metadata": {
        "id": "fOfMsP1fhxoq"
      },
      "source": [
        "### Codigo de ejemplo:"
      ]
    },
    {
      "cell_type": "code",
      "metadata": {
        "id": "bwq-7zvHhzoo"
      },
      "source": [
        "num = 1\n",
        "while num != 444:\n",
        "  num = int(input('Escriba el número 444: '))\n",
        "print('Gracias :)')"
      ],
      "execution_count": null,
      "outputs": []
    },
    {
      "cell_type": "code",
      "metadata": {
        "id": "tl1gTaKDVtfA"
      },
      "source": [
        "texto = 'sí'\n",
        "while texto == 'sí' or texto == 'si':\n",
        "  texto = str(input('Quieres repetir el ciclo? '))\n",
        "  texto = str.lower(texto)\n",
        "print('ciclo terminado')"
      ],
      "execution_count": null,
      "outputs": []
    },
    {
      "cell_type": "code",
      "metadata": {
        "id": "qkv0E4tIVxNb",
        "colab": {
          "base_uri": "https://localhost:8080/",
          "height": 34
        },
        "outputId": "fe73f40c-126d-471f-e401-0df0b7ba6344"
      },
      "source": [
        "x = 1\n",
        "y = 2\n",
        "print('sddsada: ', x)\n"
      ],
      "execution_count": null,
      "outputs": [
        {
          "output_type": "stream",
          "text": [
            "sddsada:  3\n"
          ],
          "name": "stdout"
        }
      ]
    },
    {
      "cell_type": "code",
      "metadata": {
        "id": "4R4GYAF0YEwk"
      },
      "source": [
        "num = int(input('Escriba el número 444: ', x))\n",
        "print('werwe', x, 'werwe', y)"
      ],
      "execution_count": null,
      "outputs": []
    },
    {
      "cell_type": "code",
      "metadata": {
        "id": "cbZSGE1XZcdP"
      },
      "source": [],
      "execution_count": null,
      "outputs": []
    },
    {
      "cell_type": "markdown",
      "metadata": {
        "id": "Lh4sbkoqXl9O"
      },
      "source": [
        "# Challenges:"
      ]
    },
    {
      "cell_type": "markdown",
      "metadata": {
        "id": "VPB4WDcJZFXj"
      },
      "source": [
        "*Challenge 1:* Establece el total a 0 para comenzar. Mientras total sea igual o menor a 50, solicita al usuario que ingrese un número, suma el número al total e imprima el mensaje \"El total es [total]\". Sal el bucle cuando el total sea superior a 50"
      ]
    },
    {
      "cell_type": "code",
      "metadata": {
        "id": "cRSCGFt6ZE9X"
      },
      "source": [],
      "execution_count": null,
      "outputs": []
    },
    {
      "cell_type": "markdown",
      "metadata": {
        "id": "7MnRs2DhPODV"
      },
      "source": [
        "*Challenge 2:* Genera dos números aleatorios del 1 al 12. Multiplicalos y muestre el mensaje \"A cuanto equivale [num1]*[num2] ?\". Si el ususario responde correctamente, muestrale el mensaje \"Correcto\". En el caso contrario, repítele el mensaje inicial hasta que acierte."
      ]
    },
    {
      "cell_type": "code",
      "metadata": {
        "id": "SlcIfrg-ZTIe"
      },
      "source": [],
      "execution_count": null,
      "outputs": []
    },
    {
      "cell_type": "markdown",
      "metadata": {
        "id": "P8JeZqEDXt-b"
      },
      "source": [
        "*Challenge 3:* Genera un número aleatorio entre el 1 y el 100. A continuación pídele al usuario que adivine número. Si el usuario no adivina correctamente indique si el número aleatorio es más o menos grande que el número introducido. Si el usuario consigue adivinar el número muestra el mensaje \"Bien hecho, tardaste [num] intentos\". Mientras el usuario no adivine correctamente repite este proceso.  "
      ]
    },
    {
      "cell_type": "code",
      "metadata": {
        "id": "3okNnP_WHvwS"
      },
      "source": [],
      "execution_count": null,
      "outputs": []
    }
  ]
}