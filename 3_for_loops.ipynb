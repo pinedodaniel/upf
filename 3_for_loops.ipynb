{
  "nbformat": 4,
  "nbformat_minor": 0,
  "metadata": {
    "colab": {
      "provenance": []
    },
    "kernelspec": {
      "name": "python3",
      "display_name": "Python 3"
    }
  },
  "cells": [
    {
      "cell_type": "markdown",
      "metadata": {
        "id": "ZEV3HWEaI-5O"
      },
      "source": [
        "# Inteligencia Artificial y sus aplicaciones\n",
        "### For Loop\n",
        "\n",
        "*   for statement\n",
        "*   break command\n",
        "\n"
      ]
    },
    {
      "cell_type": "markdown",
      "metadata": {
        "id": "y_qFpKp3JSeV"
      },
      "source": [
        "### Codigo de ejemplo:"
      ]
    },
    {
      "cell_type": "code",
      "metadata": {
        "id": "-LSxRCcSJNcq"
      },
      "source": [
        "for i in range(0,10):\n",
        "  print(i)"
      ],
      "execution_count": null,
      "outputs": []
    },
    {
      "cell_type": "code",
      "metadata": {
        "id": "PY8Pgu4-VEpD"
      },
      "source": [
        "for i in range(0,10,2):\n",
        "  print(i)"
      ],
      "execution_count": null,
      "outputs": []
    },
    {
      "cell_type": "code",
      "metadata": {
        "id": "TJ0ckDh5VUBg"
      },
      "source": [
        "for i in range(10,0,-2):\n",
        "  print(i)"
      ],
      "execution_count": null,
      "outputs": []
    },
    {
      "cell_type": "code",
      "metadata": {
        "id": "hG-VQIiVVgLz"
      },
      "source": [
        "texto = 'hola'\n",
        "for i in texto:\n",
        "  print(i)"
      ],
      "execution_count": null,
      "outputs": []
    },
    {
      "cell_type": "code",
      "metadata": {
        "id": "hyM7efdQg8y2"
      },
      "source": [
        "for i in range(1,1000):\n",
        "  num = int(input('Escriba el número 444'))\n",
        "  if num == 444:\n",
        "    print('Gracias :)')\n",
        "    break"
      ],
      "execution_count": null,
      "outputs": []
    },
    {
      "cell_type": "markdown",
      "metadata": {
        "id": "1YZRbgg-WKo3"
      },
      "source": [
        "# Challenges:"
      ]
    },
    {
      "cell_type": "markdown",
      "metadata": {
        "id": "Wz13ZXQTW1-u"
      },
      "source": [
        "*Challenge 1*: Pide al usuario que escriba un número del 1 al 10. A continuación muestrale la tabla de multiplicación del número inicial.  "
      ]
    },
    {
      "cell_type": "code",
      "metadata": {
        "id": "i_4UlPisKO99"
      },
      "source": [],
      "execution_count": null,
      "outputs": []
    },
    {
      "cell_type": "markdown",
      "metadata": {
        "id": "JzOT293rYQZp"
      },
      "source": [
        "*Challenge 2:* Establezca una variable llamada total a 0. Pídale al usuario que\n",
        "ingrese cinco números y después de cada entrada pregúnteles si quieren incluir ese número en el total. Si responden que sí, agregue el número al total. Si no quieren que se incluya, no lo agregue al total. Después de haber ingresado los cinco números muestra el total.\n",
        "\n",
        "\n",
        "\n",
        "\n",
        "\n",
        "\n",
        "\n",
        "\n"
      ]
    },
    {
      "cell_type": "code",
      "metadata": {
        "id": "32Myau6jblnS"
      },
      "source": [],
      "execution_count": null,
      "outputs": []
    },
    {
      "cell_type": "markdown",
      "metadata": {
        "id": "j3SZC14vbk4w"
      },
      "source": [
        "*Challenge 3:* Establezca una variable llamada vidas a 3. Escoje un número al azar entre el 1 y el 10. A continuación pregunte al usuario por el número aleatorio. Si aconsigue adivinar el número muestra un mensaje de felicitación. En caso contario, resta-le una vida a las que tenia y indique si el número secreto es más o menos grande que el número introducido y también las vidas restantes. Si el usuario se queda sin vidas muestra el mensaje **\"GAME OVER\"**."
      ]
    }
  ]
}