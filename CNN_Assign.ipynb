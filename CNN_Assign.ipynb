{
  "nbformat": 4,
  "nbformat_minor": 0,
  "metadata": {
    "colab": {
      "provenance": []
    },
    "kernelspec": {
      "name": "python3",
      "display_name": "Python 3"
    },
    "language_info": {
      "name": "python"
    }
  },
  "cells": [
    {
      "cell_type": "code",
      "execution_count": null,
      "metadata": {
        "id": "wkiAxgDI8tUC"
      },
      "outputs": [],
      "source": [
        "# Install required packages\n",
        "#!pip install tensorflow keras numpy matplotlib\n",
        "\n",
        "# Import necessary libraries\n",
        "import numpy as np\n",
        "import matplotlib.pyplot as plt\n",
        "from keras.datasets import mnist\n",
        "from keras.models import Sequential\n",
        "from keras.layers import Conv2D, MaxPooling2D, Flatten, Dense\n",
        "from keras.utils import to_categorical\n"
      ]
    },
    {
      "cell_type": "code",
      "source": [
        "# Load the MNIST dataset\n",
        "(X_train, y_train), (X_test, y_test) = mnist.load_data()\n"
      ],
      "metadata": {
        "id": "oEkLI6J7eAvf",
        "colab": {
          "base_uri": "https://localhost:8080/"
        },
        "outputId": "2a6d176a-a920-4642-b610-46c6a2e0f19e"
      },
      "execution_count": null,
      "outputs": [
        {
          "output_type": "stream",
          "name": "stdout",
          "text": [
            "Downloading data from https://storage.googleapis.com/tensorflow/tf-keras-datasets/mnist.npz\n",
            "11490434/11490434 [==============================] - 0s 0us/step\n"
          ]
        }
      ]
    },
    {
      "cell_type": "code",
      "source": [
        "# Cuantos ejemplos tiene el traing set?\n",
        "#X_train.shape\n",
        "# Cuantos ejemplos tiene el test set?\n",
        "X_test.shape\n",
        "# Que dimensiones tienen las imagenes en el training y test sets?\n",
        "\n",
        "# En este data set cuales son las posible clases o outputs?\n"
      ],
      "metadata": {
        "id": "kt1KAkq8exLK",
        "colab": {
          "base_uri": "https://localhost:8080/"
        },
        "outputId": "4c64c468-9e9b-46c3-f06f-fd448d133e5e"
      },
      "execution_count": null,
      "outputs": [
        {
          "output_type": "execute_result",
          "data": {
            "text/plain": [
              "(10000, 28, 28)"
            ]
          },
          "metadata": {},
          "execution_count": 5
        }
      ]
    },
    {
      "cell_type": "code",
      "source": [
        "# Preprocess the data\n",
        "X_train = X_train.reshape(X_train.shape[0], 28, 28, 1).astype('float32') / 255\n",
        "X_test = X_test.reshape(X_test.shape[0], 28, 28, 1).astype('float32') / 255\n",
        "y_train = to_categorical(y_train)\n",
        "y_test = to_categorical(y_test)\n"
      ],
      "metadata": {
        "id": "2iWuB7wReuY5"
      },
      "execution_count": null,
      "outputs": []
    },
    {
      "cell_type": "code",
      "source": [
        "# Build the CNN model\n",
        "model = Sequential()\n",
        "model.add(Conv2D(32, kernel_size=(3, 3), activation='relu', input_shape=(28, 28, 1)))\n",
        "model.add(MaxPooling2D(pool_size=(2, 2)))\n",
        "model.add(Flatten())\n",
        "model.add(Dense(128, activation='relu'))\n",
        "model.add(Dense(10, activation='softmax'))\n",
        "\n",
        "# Compile the model\n",
        "model.compile(optimizer='adam', loss='categorical_crossentropy', metrics=['accuracy'])\n",
        "\n",
        "# Train the model\n",
        "model.fit(X_train, y_train, epochs=2, batch_size=128, validation_data=(X_test, y_test))\n",
        "\n",
        "# Si añades mas epocs mejora la acuracy del modelo? No pongas mas de 5 epochs porque tarda en entrenar.\n",
        "\n",
        "\n",
        "\n",
        "# Evaluate the model\n",
        "loss, accuracy = model.evaluate(X_test, y_test)\n",
        "print(\"Test Loss:\", loss)\n",
        "print(\"Test Accuracy:\", accuracy)\n",
        "\n",
        "# Make predictions\n",
        "predictions = model.predict(X_test[:10])\n",
        "predicted_labels = np.argmax(predictions, axis=1)\n",
        "\n",
        "# Plot the predictions\n",
        "fig, axs = plt.subplots(2, 6, figsize=(12, 6))\n",
        "axs = axs.flatten()\n",
        "for i in range(10):\n",
        "    axs[i].imshow(X_test[i].reshape(28, 28), cmap='gray')\n",
        "    axs[i].set_title(\"Predicted: {}\".format(predicted_labels[i]))\n",
        "    axs[i].axis('off')\n",
        "plt.show()"
      ],
      "metadata": {
        "id": "Ovfv_hYbeHmn",
        "colab": {
          "base_uri": "https://localhost:8080/",
          "height": 645
        },
        "outputId": "14397f83-c44e-4d51-da0c-00ffe4cab454"
      },
      "execution_count": null,
      "outputs": [
        {
          "output_type": "stream",
          "name": "stdout",
          "text": [
            "Epoch 1/2\n",
            "469/469 [==============================] - 37s 76ms/step - loss: 0.2236 - accuracy: 0.9363 - val_loss: 0.0892 - val_accuracy: 0.9722\n",
            "Epoch 2/2\n",
            "469/469 [==============================] - 34s 72ms/step - loss: 0.0676 - accuracy: 0.9805 - val_loss: 0.0575 - val_accuracy: 0.9816\n",
            "313/313 [==============================] - 3s 9ms/step - loss: 0.0575 - accuracy: 0.9816\n",
            "Test Loss: 0.057529743760824203\n",
            "Test Accuracy: 0.9815999865531921\n",
            "1/1 [==============================] - 0s 97ms/step\n"
          ]
        },
        {
          "output_type": "display_data",
          "data": {
            "text/plain": [
              "<Figure size 1200x600 with 12 Axes>"
            ],
            "image/png": "[encoded data removed]"
          },
          "metadata": {}
        }
      ]
    }
  ]
}