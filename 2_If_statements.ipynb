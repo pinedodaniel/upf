{
  "nbformat": 4,
  "nbformat_minor": 0,
  "metadata": {
    "colab": {
      "provenance": [],
      "include_colab_link": true
    },
    "kernelspec": {
      "name": "python3",
      "display_name": "Python 3"
    }
  },
  "cells": [
    {
      "cell_type": "markdown",
      "metadata": {
        "id": "view-in-github",
        "colab_type": "text"
      },
      "source": [
        "<a href=\"https://colab.research.google.com/github/pinedodaniel/upf/blob/main/2_If_statements.ipynb\" target=\"_parent\"><img src=\"https://colab.research.google.com/assets/colab-badge.svg\" alt=\"Open In Colab\"/></a>"
      ]
    },
    {
      "cell_type": "markdown",
      "metadata": {
        "id": "505DovCUx57Q"
      },
      "source": [
        "# Inteligencia Artificial y sus aplicaciones\n",
        "### Condicionales\n",
        "\n",
        "*   If statements\n",
        "*   Operadores de comparación\n",
        "*   Operadores lógicos\n",
        "*   random library\n",
        "\n",
        "\n",
        "\n",
        "\n",
        "\n",
        "\n"
      ]
    },
    {
      "cell_type": "markdown",
      "metadata": {
        "id": "xWd_o-N66lG2"
      },
      "source": [
        "### Codigo de ejemplo:"
      ]
    },
    {
      "cell_type": "code",
      "metadata": {
        "id": "bJfXW_FI44Z5"
      },
      "source": [
        "num = int(input('Escriba un número: '))\n",
        "if num > 10:\n",
        "    print('Es mayor a 10')\n",
        "else:\n",
        "    print('No es mayor a 10')"
      ],
      "execution_count": null,
      "outputs": []
    },
    {
      "cell_type": "code",
      "metadata": {
        "id": "RiSl2UxF5XSC"
      },
      "source": [
        "num = int(input('Escriba un número: '))\n",
        "if num > 10:\n",
        "    print('Es mayor a 10')\n",
        "elif num == 10:\n",
        "    print('Es igual a 10')\n",
        "else:\n",
        "    print('Es menor a 10')"
      ],
      "execution_count": null,
      "outputs": []
    },
    {
      "cell_type": "code",
      "metadata": {
        "id": "C2SGK7C7FPsx"
      },
      "source": [
        "num = int(input('Escriba un número entre el 1 y el 10: '))\n",
        "if num > 1 and num < 10:\n",
        "  print('Gracias :)')\n",
        "else:\n",
        "  print('Respuesta incorrecta')"
      ],
      "execution_count": null,
      "outputs": []
    },
    {
      "cell_type": "code",
      "metadata": {
        "id": "zQWNLcd_GSeJ"
      },
      "source": [
        "num = int(input('Escriba un número entre el 1 y el 5 que sea par: '))\n",
        "if num == 2 or num == 4:\n",
        "  print('Gracias :)')\n",
        "else:\n",
        "  print('Respuesta incorrecta')"
      ],
      "execution_count": null,
      "outputs": []
    },
    {
      "cell_type": "code",
      "metadata": {
        "id": "5fabuQLWL2DS"
      },
      "source": [
        "texto = str(input('Escriba su animal favorito: '))\n",
        "texto_en_minusculas = str.lower(texto)\n",
        "print('Mi animal favorito también es el', texto_en_minusculas)"
      ],
      "execution_count": null,
      "outputs": []
    },
    {
      "cell_type": "code",
      "metadata": {
        "id": "pGPb94LNNyX4"
      },
      "source": [
        "color = str(input('Escriba su color favorito: '))\n",
        "color = str.lower(color)\n",
        "\n",
        "if color == 'azul':\n",
        "  print('Mi color favorito también es el azul')\n",
        "else:\n",
        "  print('Yo prefiero el color azul')"
      ],
      "execution_count": null,
      "outputs": []
    },
    {
      "cell_type": "code",
      "metadata": {
        "id": "jviUFWsCxSNe"
      },
      "source": [
        "import random\n",
        "num = random.randint(1,10)\n",
        "print(num)"
      ],
      "execution_count": null,
      "outputs": []
    },
    {
      "cell_type": "markdown",
      "metadata": {
        "id": "zVNT-Usb6nhX"
      },
      "source": [
        "### Challenges"
      ]
    },
    {
      "cell_type": "markdown",
      "metadata": {
        "id": "yMnjqZmg6wJ4"
      },
      "source": [
        "*Challenge 1*: Pregunta por dos números e imprímelos en orden ascendente"
      ]
    },
    {
      "cell_type": "code",
      "metadata": {
        "id": "cqkqS5027Rb8"
      },
      "source": [
        "\n"
      ],
      "execution_count": null,
      "outputs": []
    },
    {
      "cell_type": "markdown",
      "metadata": {
        "id": "Snnzo7wcIcno"
      },
      "source": [
        "*Challenge 2*: Pide al usuario que escoja una cara de la moneda (cara o cruz), si adivina correctamente felicitale con el mensaje  **\"Correcto!\"** En caso contrario muestre el mensaje **\"Has tenido mala suerte\"**"
      ]
    },
    {
      "cell_type": "code",
      "source": [],
      "metadata": {
        "id": "ivLluLaBwYa3"
      },
      "execution_count": null,
      "outputs": []
    },
    {
      "cell_type": "markdown",
      "metadata": {
        "id": "DyFGTMnlPA3H"
      },
      "source": [
        "*Challenge 3*: Pregunta por dos numeros. Después pregunta **\"Cuanto vale [num1] x [num2] ?\"** Muestra un mensaje u otro dependiendo de si responde correctamente o no."
      ]
    },
    {
      "cell_type": "code",
      "metadata": {
        "id": "HmfvsU26BibH"
      },
      "source": [],
      "execution_count": null,
      "outputs": []
    },
    {
      "cell_type": "markdown",
      "metadata": {
        "id": "uSp9lT1q-zjP"
      },
      "source": [
        "*Challenge 4*: Genera un numero entre 1 y 5 al azar. Pide al usuario que adivine el número y dile si su numero es mayor o menor, o correcto."
      ]
    },
    {
      "cell_type": "code",
      "metadata": {
        "id": "GJ5Me5zZBZwG"
      },
      "source": [],
      "execution_count": null,
      "outputs": []
    },
    {
      "cell_type": "markdown",
      "metadata": {
        "id": "rJ27iFLgItMn"
      },
      "source": [
        "*Challenge 5*: Igual que el Challenge 4 pero permite 2 intentos de adivinar el numero  "
      ]
    },
    {
      "cell_type": "code",
      "metadata": {
        "id": "6EBD4yo3JRdM"
      },
      "source": [],
      "execution_count": null,
      "outputs": []
    },
    {
      "cell_type": "markdown",
      "metadata": {
        "id": "A2K-VXCkPN9O"
      },
      "source": [
        "*Challenge 6*: Escribe un programa para calcular el factorial de un número. El factorial de un numero es el producto de todos los numeros desde 1 hasta ese número. Es decir:\n",
        "n! = n* (n-1) * (n-2) * ... * 1  \n",
        "Por ejemplo factorial de 4 es: 4! = 4x3x2x1 = 24    \n",
        "Puedes usar import math para cargar la funcion factorial y math.factorial(num) para calular el factorial de un numero num"
      ]
    },
    {
      "cell_type": "code",
      "metadata": {
        "id": "wqs7UGgaP_Px"
      },
      "source": [],
      "execution_count": null,
      "outputs": []
    },
    {
      "cell_type": "markdown",
      "metadata": {
        "id": "VAk9jZSTP_jI"
      },
      "source": [
        "*Challenge 6*: Implementa una calculadora con *, /, +, -, y ! . La calculadora debe pedir al usuario la operación que desea realizar, el o los numeros de entrada e imprimir el resultado."
      ]
    },
    {
      "cell_type": "code",
      "metadata": {
        "id": "TvQpzmsKQoKV"
      },
      "source": [],
      "execution_count": null,
      "outputs": []
    }
  ]
}